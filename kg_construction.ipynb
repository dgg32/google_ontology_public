{
 "cells": [
  {
   "cell_type": "code",
   "execution_count": 9,
   "metadata": {},
   "outputs": [],
   "source": [
    "import openai\n",
    "\n",
    "import yaml\n",
    "import json\n",
    "import os\n",
    "\n",
    "from google.cloud import language\n",
    "import pandas as pd\n",
    "import requests\n",
    "\n",
    "from neo4j import GraphDatabase\n",
    "import shutil\n",
    "from pathlib import Path\n"
   ]
  },
  {
   "cell_type": "code",
   "execution_count": 10,
   "metadata": {},
   "outputs": [],
   "source": [
    "\n",
    "\n",
    "with open(\"config.yaml\", \"r\") as stream:\n",
    "    try:\n",
    "        PARAM = yaml.safe_load(stream)\n",
    "    except yaml.YAMLError as exc:\n",
    "        print(exc)\n",
    "\n",
    "os.environ['OPENAI_API_KEY'] = PARAM[\"OPENAI_API_KEY\"]\n",
    "\n",
    "openai.api_key = os.environ[\"OPENAI_API_KEY\"]\n",
    "\n",
    "#Add your Google service account JSON file to the root of your project and set the environment variable GOOGLE_APPLICATION_CREDENTIALS to the path of the JSON file here.\n",
    "os.environ['GOOGLE_APPLICATION_CREDENTIALS'] ='./nlp-extraction-395102-7408a199af50.json'"
   ]
  },
  {
   "cell_type": "code",
   "execution_count": 11,
   "metadata": {},
   "outputs": [],
   "source": [
    "with open('example.jsonl') as f:\n",
    "    data = [json.loads(line) for line in f]"
   ]
  },
  {
   "cell_type": "code",
   "execution_count": 12,
   "metadata": {},
   "outputs": [
    {
     "data": {
      "text/plain": [
       "'NVIDIA today announced a multi-year collaboration with Microsoft to build one of the most powerful AI supercomputers in the world, powered by Microsoft Azure’s advanced supercomputing infrastructure combined with NVIDIA GPUs, networking and full stack of AI software to help enterprises train, deploy and scale AI, including large, state-of-the-art models.'"
      ]
     },
     "execution_count": 12,
     "metadata": {},
     "output_type": "execute_result"
    }
   ],
   "source": [
    "data[1][\"text\"]"
   ]
  },
  {
   "cell_type": "code",
   "execution_count": 13,
   "metadata": {},
   "outputs": [],
   "source": [
    "\n",
    "def extract_seller_buyer_from_text(text: str, model_name: str = \"gpt-3.5-turbo\"):\n",
    "    system_prompt = \"You are a helpful relationship extractor.\"\n",
    "    prompt = f\"{text}\\Who sells to whom. Answer strictly in this pairwise binary format: seller,buyer. If there are multiple pairs, list each pair in a new line.\"\n",
    "\n",
    "\n",
    "    #print (prompt)\n",
    "    completion = openai.ChatCompletion.create(\n",
    "        model=model_name,\n",
    "        messages=[\n",
    "            {\"role\": \"system\", \"content\": system_prompt},\n",
    "            {\"role\": \"user\", \"content\": prompt}\n",
    "        ],\n",
    "        functions=[\n",
    "            {\n",
    "            \"name\": \"extract_relations\", \n",
    "            \"description\": f\"Extract the seller,buyer from the text.\",\n",
    "            \"parameters\": {\n",
    "                \"type\": \"object\",\n",
    "                \"properties\": {\n",
    "                \"seller-buyer\": {\n",
    "                    \"type\": \"array\",\n",
    "                    \"items\": {\"type\": \"string\"},\n",
    "                    \"description\": f\"Who sells to whom. Answer strictly in this pairwise binary format: seller,buyer. If there are multiple pairs, list each pair in a new line.\"\n",
    "                }\n",
    "\n",
    "                },\n",
    "                \"required\": [\"seller-buyer\"]\n",
    "            }\n",
    "            }\n",
    "        ],\n",
    "        function_call=\"auto\",\n",
    "        temperature=0,\n",
    "    )\n",
    "    \n",
    "    message = completion.choices[0].message\n",
    "    function_used = hasattr(message, \"function_call\")\n",
    "    return message.function_call.arguments if function_used else message.content\n",
    "\n",
    "\n"
   ]
  },
  {
   "cell_type": "code",
   "execution_count": 14,
   "metadata": {},
   "outputs": [],
   "source": [
    "#extract_seller_buyer_from_text(\"Microsoftの最新コンソールには、AMDのテクノロジーが採用されています。AMDのエンジニアはXbox One XおよびXbox One Sの設計者と緊密に連携し、強力なマルチコアAMD CPUおよびグラフィックス・テクノロジーを搭載する、カスタマイズされたプロセッサーを構築しました。\")"
   ]
  },
  {
   "cell_type": "code",
   "execution_count": 15,
   "metadata": {},
   "outputs": [],
   "source": [
    "\n",
    "def analyze_text_entities(text: str) -> language.AnalyzeEntitiesResponse:\n",
    "    client = language.LanguageServiceClient()\n",
    "    document = language.Document(\n",
    "        content=text,\n",
    "        type_=language.Document.Type.PLAIN_TEXT,\n",
    "    )\n",
    "    return client.analyze_entities(document=document)\n",
    "\n",
    "def show_text_entities(response: language.AnalyzeEntitiesResponse):\n",
    "\n",
    "    columns = (\"name\", \"type\", \"salience\", \"mid\", \"wikipedia_url\")\n",
    "    data = (\n",
    "        (\n",
    "            entity.name,\n",
    "            entity.type_.name,\n",
    "            entity.salience,\n",
    "            entity.metadata.get(\"mid\", \"\"),\n",
    "            entity.metadata.get(\"wikipedia_url\", \"\"),\n",
    "        )\n",
    "        for entity in response.entities\n",
    "    )\n",
    "    df = pd.DataFrame(columns=columns, data=data)\n",
    "    print(df.to_markdown(index=False, tablefmt=\"presto\", floatfmt=\".0%\"))\n"
   ]
  },
  {
   "cell_type": "code",
   "execution_count": 16,
   "metadata": {},
   "outputs": [],
   "source": [
    "def get_wikidata_id(wiki_url):\n",
    "    url = 'https://query.wikidata.org/sparql'\n",
    "    query = f'''\n",
    "    prefix schema: <http://schema.org/>\n",
    "    SELECT * WHERE {{\n",
    "        <{wiki_url}> schema:about ?item .\n",
    "    }}\n",
    "    '''\n",
    "    r = requests.get(url, params = {'format': 'json', 'query': query}, headers = {'User-agent': 'your bot 0.1'})\n",
    "    data = r.json()\n",
    "    return {\"wikidata_id\": data[\"results\"][\"bindings\"][0][\"item\"][\"value\"].split(\"/\")[-1]}\n",
    "\n",
    "\n",
    "def get_wikidata_description(wikidata_id):\n",
    "    url = 'https://query.wikidata.org/sparql'\n",
    "    query = f'''\n",
    "    SELECT ?description WHERE\n",
    "    {{\n",
    "        SERVICE wikibase:label {{\n",
    "            bd:serviceParam wikibase:language \"en\" .\n",
    "            wd:{wikidata_id} schema:description ?description .\n",
    "        }}\n",
    "    }}\n",
    "    '''\n",
    "    r = requests.get(url, params = {'format': 'json', 'query': query}, headers = {'User-agent': 'your bot 0.1'})\n",
    "    data = r.json()\n",
    "    #print (data)\n",
    "    return {\"description\": data[\"results\"][\"bindings\"][0][\"description\"][\"value\"]}\n",
    "\n",
    "\n",
    "def get_father_item(wikidata_id):\n",
    "    #print (wikidata_id)\n",
    "    url = 'https://query.wikidata.org/sparql'\n",
    "    query = f'''\n",
    "    SELECT ?item ?itemLabel ?article ?description\n",
    "    WHERE\n",
    "    {{\n",
    "    wd:{wikidata_id} wdt:P31 ?item.\n",
    "    \n",
    "    \n",
    "    SERVICE wikibase:label {{\n",
    "        bd:serviceParam wikibase:language \"en\" .\n",
    "        ?item rdfs:label ?itemLabel .\n",
    "        ?item schema:description ?description .\n",
    "    }}\n",
    "    \n",
    "    OPTIONAL {{\n",
    "        ?article schema:about ?item .\n",
    "        ?article schema:inLanguage \"en\" .\n",
    "        ?article schema:isPartOf <https://en.wikipedia.org/> .\n",
    "    }}\n",
    "    }} \n",
    "    '''\n",
    "\n",
    "    #print (query)\n",
    "    r = requests.get(url, params = {'format': 'json', 'query': query}, headers = {'User-agent': 'your bot 0.1'})\n",
    "    #print (\"r\", r)\n",
    "    data = r.json()\n",
    "    #print (\"data\", data)\n",
    "\n",
    "    results = []\n",
    "\n",
    "    for x in data[\"results\"][\"bindings\"]:\n",
    "        results.append({\"wikidata_id\": x[\"item\"][\"value\"].split(\"/\")[-1], \"name\": x[\"itemLabel\"][\"value\"], \n",
    "        \"wikipedia_url\": x[\"article\"][\"value\"] if \"article\" in x else None,\n",
    "        \"description\": x[\"description\"][\"value\"] if \"description\" in x else None})\n",
    "\n",
    "    return results"
   ]
  },
  {
   "cell_type": "code",
   "execution_count": 17,
   "metadata": {},
   "outputs": [
    {
     "data": {
      "text/plain": [
       "[{'wikidata_id': 'Q4830453',\n",
       "  'name': 'business',\n",
       "  'wikipedia_url': 'https://en.wikipedia.org/wiki/Business',\n",
       "  'description': 'organization undertaking commercial, industrial, or professional activity'},\n",
       " {'wikidata_id': 'Q891723',\n",
       "  'name': 'public company',\n",
       "  'wikipedia_url': 'https://en.wikipedia.org/wiki/Public_company',\n",
       "  'description': 'company that offers its securities for sale to the general public'},\n",
       " {'wikidata_id': 'Q4182287',\n",
       "  'name': 'web search engine',\n",
       "  'wikipedia_url': 'https://en.wikipedia.org/wiki/Search_engine',\n",
       "  'description': 'software system that is designed to search for information on the World Wide Web'},\n",
       " {'wikidata_id': 'Q6881511',\n",
       "  'name': 'enterprise',\n",
       "  'wikipedia_url': 'https://en.wikipedia.org/wiki/Business_enterprise',\n",
       "  'description': 'organizational unit producing goods or services, which benefits from a certain degree of autonomy in decision-making, especially for the allocation of its current resources'}]"
      ]
     },
     "execution_count": 17,
     "metadata": {},
     "output_type": "execute_result"
    }
   ],
   "source": [
    "get_father_item(\"Q14772\")"
   ]
  },
  {
   "cell_type": "code",
   "execution_count": 18,
   "metadata": {},
   "outputs": [
    {
     "name": "stdout",
     "output_type": "stream",
     "text": [
      "seller_buyers ['US chipmaker,Nvidia', 'Nvidia,Baidu', 'Nvidia,ByteDance', 'Nvidia,Tencent', 'Nvidia,Alibaba']\n",
      "selected_nodes {'Baidu', 'ByteDance', 'Alibaba', 'Nvidia', 'Tencent'}\n",
      "seller_buyers ['NVIDIA,Microsoft']\n",
      "selected_nodes {'NVIDIA', 'Microsoft'}\n",
      "seller_buyers ['AMD,Microsoft']\n",
      "selected_nodes {'Microsoft', 'AMD'}\n"
     ]
    }
   ],
   "source": [
    "nodes = {}\n",
    "edges = set()\n",
    "\n",
    "category_node = {}\n",
    "category_edge = set()\n",
    "\n",
    "for index in range(len(data)):\n",
    "    temp_nodes = {}\n",
    "    selected_nodes = set()\n",
    "\n",
    "    txt = data[index][\"text\"]\n",
    "\n",
    "    relation_extraction = json.loads(extract_seller_buyer_from_text(txt))\n",
    "    seller_buyers = relation_extraction['seller-buyer']\n",
    "    #print (\"seller_buyers\")\n",
    "\n",
    "    ner = analyze_text_entities(txt)\n",
    "\n",
    "    for entity in ner.entities:\n",
    "        name = entity.name\n",
    "        type_ = entity.type_.name\n",
    "        wikipedia_url = \"\"\n",
    "\n",
    "        if type_ == \"ORGANIZATION\":\n",
    "            wikipedia_url = entity.metadata.get(\"wikipedia_url\", \"\")\n",
    "\n",
    "            if wikipedia_url != \"\":\n",
    "                wikidata_id = get_wikidata_id(wikipedia_url)\n",
    "\n",
    "                temp_nodes[name] =  {\"name\": name, \"type\": type_, \"wikipedia_url\": wikipedia_url, \"wikidata_id\": wikidata_id[\"wikidata_id\"], \"description\": get_wikidata_description(wikidata_id[\"wikidata_id\"])[\"description\"]}\n",
    "\n",
    "    print (\"seller_buyers\", seller_buyers)\n",
    "\n",
    "    for seller_buyer in seller_buyers:\n",
    "        seller = seller_buyer.split(\",\")[0]\n",
    "        buyer = seller_buyer.split(\",\")[1]\n",
    "\n",
    "        if seller in temp_nodes and buyer in temp_nodes:\n",
    "            edges.add((temp_nodes[seller]['wikidata_id'], temp_nodes[buyer]['wikidata_id']))\n",
    "\n",
    "            selected_nodes.add(seller)\n",
    "            selected_nodes.add(buyer)\n",
    "\n",
    "    print (\"selected_nodes\", selected_nodes)\n",
    "    for node in selected_nodes:\n",
    "        wikidata_id = temp_nodes[node]['wikidata_id']\n",
    "\n",
    "        if wikidata_id not in nodes:\n",
    "            nodes[wikidata_id] = temp_nodes[node]\n",
    "        #print (wikidata_id, type(wikidata_id))\n",
    "\n",
    "        fathers = get_father_item(wikidata_id)\n",
    "\n",
    "        for father in fathers:\n",
    "            if father[\"wikipedia_url\"] is not None:\n",
    "                category_node[father[\"name\"]] = {\"wikipedia_url\": father[\"wikipedia_url\"], \"wikidata_id\": father[\"wikidata_id\"], \"description\": father[\"description\"]}\n",
    "                category_edge.add((wikidata_id,father[\"wikidata_id\"]))\n",
    "\n",
    "    #print (\"category_node\")\n",
    "\n"
   ]
  },
  {
   "cell_type": "code",
   "execution_count": 19,
   "metadata": {},
   "outputs": [
    {
     "data": {
      "text/plain": [
       "[{'wikidata_id': 'Q4830453',\n",
       "  'name': 'business',\n",
       "  'wikipedia_url': 'https://en.wikipedia.org/wiki/Business',\n",
       "  'description': 'organization undertaking commercial, industrial, or professional activity'},\n",
       " {'wikidata_id': 'Q891723',\n",
       "  'name': 'public company',\n",
       "  'wikipedia_url': 'https://en.wikipedia.org/wiki/Public_company',\n",
       "  'description': 'company that offers its securities for sale to the general public'},\n",
       " {'wikidata_id': 'Q4182287',\n",
       "  'name': 'web search engine',\n",
       "  'wikipedia_url': 'https://en.wikipedia.org/wiki/Search_engine',\n",
       "  'description': 'software system that is designed to search for information on the World Wide Web'},\n",
       " {'wikidata_id': 'Q6881511',\n",
       "  'name': 'enterprise',\n",
       "  'wikipedia_url': 'https://en.wikipedia.org/wiki/Business_enterprise',\n",
       "  'description': 'organizational unit producing goods or services, which benefits from a certain degree of autonomy in decision-making, especially for the allocation of its current resources'}]"
      ]
     },
     "execution_count": 19,
     "metadata": {},
     "output_type": "execute_result"
    }
   ],
   "source": [
    "get_father_item(\"Q14772\")"
   ]
  },
  {
   "cell_type": "code",
   "execution_count": 20,
   "metadata": {},
   "outputs": [
    {
     "data": {
      "text/plain": [
       "{'Q14772': {'name': 'Baidu',\n",
       "  'type': 'ORGANIZATION',\n",
       "  'wikipedia_url': 'https://en.wikipedia.org/wiki/Baidu',\n",
       "  'wikidata_id': 'Q14772',\n",
       "  'description': 'Chinese web services company'},\n",
       " 'Q55606242': {'name': 'ByteDance',\n",
       "  'type': 'ORGANIZATION',\n",
       "  'wikipedia_url': 'https://en.wikipedia.org/wiki/ByteDance',\n",
       "  'wikidata_id': 'Q55606242',\n",
       "  'description': 'Internet technology company in China'},\n",
       " 'Q1359568': {'name': 'Alibaba',\n",
       "  'type': 'ORGANIZATION',\n",
       "  'wikipedia_url': 'https://en.wikipedia.org/wiki/Alibaba_Group',\n",
       "  'wikidata_id': 'Q1359568',\n",
       "  'description': 'Chinese multinational technology company'},\n",
       " 'Q182477': {'name': 'Nvidia',\n",
       "  'type': 'ORGANIZATION',\n",
       "  'wikipedia_url': 'https://en.wikipedia.org/wiki/Nvidia',\n",
       "  'wikidata_id': 'Q182477',\n",
       "  'description': 'American multinational technology company'},\n",
       " 'Q860580': {'name': 'Tencent',\n",
       "  'type': 'ORGANIZATION',\n",
       "  'wikipedia_url': 'https://en.wikipedia.org/wiki/Tencent',\n",
       "  'wikidata_id': 'Q860580',\n",
       "  'description': 'Chinese multinational investment holding conglomerate'},\n",
       " 'Q2283': {'name': 'Microsoft',\n",
       "  'type': 'ORGANIZATION',\n",
       "  'wikipedia_url': 'https://en.wikipedia.org/wiki/Microsoft',\n",
       "  'wikidata_id': 'Q2283',\n",
       "  'description': 'American multinational technology corporation'},\n",
       " 'Q128896': {'name': 'AMD',\n",
       "  'type': 'ORGANIZATION',\n",
       "  'wikipedia_url': 'https://en.wikipedia.org/wiki/AMD',\n",
       "  'wikidata_id': 'Q128896',\n",
       "  'description': 'American multinational semiconductor company'}}"
      ]
     },
     "execution_count": 20,
     "metadata": {},
     "output_type": "execute_result"
    }
   ],
   "source": [
    "nodes"
   ]
  },
  {
   "cell_type": "code",
   "execution_count": 21,
   "metadata": {},
   "outputs": [
    {
     "data": {
      "text/plain": [
       "{('Q128896', 'Q2283'),\n",
       " ('Q182477', 'Q1359568'),\n",
       " ('Q182477', 'Q14772'),\n",
       " ('Q182477', 'Q2283'),\n",
       " ('Q182477', 'Q55606242'),\n",
       " ('Q182477', 'Q860580')}"
      ]
     },
     "execution_count": 21,
     "metadata": {},
     "output_type": "execute_result"
    }
   ],
   "source": [
    "edges"
   ]
  },
  {
   "cell_type": "code",
   "execution_count": 22,
   "metadata": {},
   "outputs": [
    {
     "data": {
      "text/plain": [
       "{'AMD', 'Microsoft'}"
      ]
     },
     "execution_count": 22,
     "metadata": {},
     "output_type": "execute_result"
    }
   ],
   "source": [
    "selected_nodes"
   ]
  },
  {
   "cell_type": "code",
   "execution_count": 23,
   "metadata": {},
   "outputs": [
    {
     "data": {
      "text/plain": [
       "['AMD,Microsoft']"
      ]
     },
     "execution_count": 23,
     "metadata": {},
     "output_type": "execute_result"
    }
   ],
   "source": [
    "seller_buyers"
   ]
  },
  {
   "cell_type": "code",
   "execution_count": 24,
   "metadata": {},
   "outputs": [],
   "source": [
    "\n",
    "\n",
    "content = \"from\\tto\\n\"\n",
    "for line in edges:\n",
    "    content += f\"{line[0]}\\t{line[1]}\\n\"\n",
    "\n",
    "output_file = open(\"neo4j/edge_sells_to.tsv\", 'w')\n",
    "output_file.write(content)\n",
    "output_file.close()\n",
    "\n"
   ]
  },
  {
   "cell_type": "code",
   "execution_count": 25,
   "metadata": {},
   "outputs": [],
   "source": [
    "content = \"wikidata_id\\tname\\ttype\\twikipedia_url\\tdescription\\n\"\n",
    "for node in nodes:\n",
    "    name = nodes[node]['name']\n",
    "    wikidata_id = nodes[node]['wikidata_id']\n",
    "    type_ = nodes[node]['type']\n",
    "    wikipedia_url = nodes[node]['wikipedia_url']\n",
    "    description = nodes[node]['description']\n",
    "    content += f\"{wikidata_id}\\t{name}\\t{type_}\\t{wikipedia_url}\\t{description}\\n\"\n",
    "\n",
    "output_file = open(\"neo4j/node_organization.tsv\", 'w')\n",
    "output_file.write(content)\n",
    "output_file.close()"
   ]
  },
  {
   "cell_type": "markdown",
   "metadata": {},
   "source": [
    "[{'wikidata_id': 'Q341',\n",
    "  'name': 'free software',\n",
    "  'wiki_url': 'https://en.wikipedia.org/wiki/Free_software',\n",
    "  'description': 'software distributed under terms that allow users to freely run, study, change and distribute it and modified versions'},\n",
    " {'wikidata_id': 'Q218616',\n",
    "  'name': 'proprietary software',\n",
    "  'wiki_url': 'https://en.wikipedia.org/wiki/Proprietary_software',\n",
    "  'description': 'computer software released under a license restricting use, study or redistribution'},\n",
    " {'wikidata_id': 'Q595971',\n",
    "  'name': 'graph database',\n",
    "  'wiki_url': 'https://en.wikipedia.org/wiki/Graph_database',\n",
    "  'description': 'database which utilizes structure of discrete mathematical graphs to store and search data'},\n",
    " {'wikidata_id': 'Q99510066',\n",
    "  'name': 'labeled property graph',\n",
    "  'wiki_url': None,\n",
    "  'description': 'area of research'}]"
   ]
  },
  {
   "cell_type": "code",
   "execution_count": 26,
   "metadata": {},
   "outputs": [
    {
     "data": {
      "text/plain": [
       "{('Q128896', 'Q4830453'),\n",
       " ('Q128896', 'Q6881511'),\n",
       " ('Q128896', 'Q891723'),\n",
       " ('Q1359568', 'Q35127'),\n",
       " ('Q1359568', 'Q43229'),\n",
       " ('Q1359568', 'Q4830453'),\n",
       " ('Q1359568', 'Q6881511'),\n",
       " ('Q1359568', 'Q891723'),\n",
       " ('Q14772', 'Q4182287'),\n",
       " ('Q14772', 'Q4830453'),\n",
       " ('Q14772', 'Q6881511'),\n",
       " ('Q14772', 'Q891723'),\n",
       " ('Q182477', 'Q4830453'),\n",
       " ('Q182477', 'Q6881511'),\n",
       " ('Q182477', 'Q891723'),\n",
       " ('Q2283', 'Q1058914'),\n",
       " ('Q2283', 'Q18388277'),\n",
       " ('Q2283', 'Q4830453'),\n",
       " ('Q2283', 'Q891723'),\n",
       " ('Q55606242', 'Q1058914'),\n",
       " ('Q55606242', 'Q1589009'),\n",
       " ('Q55606242', 'Q18127'),\n",
       " ('Q55606242', 'Q4830453'),\n",
       " ('Q55606242', 'Q783794'),\n",
       " ('Q860580', 'Q219577'),\n",
       " ('Q860580', 'Q778575'),\n",
       " ('Q860580', 'Q891723')}"
      ]
     },
     "execution_count": 26,
     "metadata": {},
     "output_type": "execute_result"
    }
   ],
   "source": [
    "category_edge"
   ]
  },
  {
   "cell_type": "code",
   "execution_count": 27,
   "metadata": {},
   "outputs": [],
   "source": [
    "content = \"from\\tto\\n\"\n",
    "for line in category_edge:\n",
    "    \n",
    "    content += f\"{line[0]}\\t{line[1]}\\n\"\n",
    "\n",
    "output_file = open(\"neo4j/edge_organization_is_a.tsv\", 'w')\n",
    "output_file.write(content)\n",
    "output_file.close()"
   ]
  },
  {
   "cell_type": "code",
   "execution_count": 28,
   "metadata": {},
   "outputs": [
    {
     "data": {
      "text/plain": [
       "{'business': {'wikipedia_url': 'https://en.wikipedia.org/wiki/Business',\n",
       "  'wikidata_id': 'Q4830453',\n",
       "  'description': 'organization undertaking commercial, industrial, or professional activity'},\n",
       " 'public company': {'wikipedia_url': 'https://en.wikipedia.org/wiki/Public_company',\n",
       "  'wikidata_id': 'Q891723',\n",
       "  'description': 'company that offers its securities for sale to the general public'},\n",
       " 'web search engine': {'wikipedia_url': 'https://en.wikipedia.org/wiki/Search_engine',\n",
       "  'wikidata_id': 'Q4182287',\n",
       "  'description': 'software system that is designed to search for information on the World Wide Web'},\n",
       " 'enterprise': {'wikipedia_url': 'https://en.wikipedia.org/wiki/Business_enterprise',\n",
       "  'wikidata_id': 'Q6881511',\n",
       "  'description': 'organizational unit producing goods or services, which benefits from a certain degree of autonomy in decision-making, especially for the allocation of its current resources'},\n",
       " 'company': {'wikipedia_url': 'https://en.wikipedia.org/wiki/Company',\n",
       "  'wikidata_id': 'Q783794',\n",
       "  'description': 'legal entity representing an association of people, whether natural, legal or a mixture of both, with a specific objective'},\n",
       " 'record label': {'wikipedia_url': 'https://en.wikipedia.org/wiki/Record_label',\n",
       "  'wikidata_id': 'Q18127',\n",
       "  'description': 'brand and trademark associated with the marketing of music recordings and music videos'},\n",
       " 'software company': {'wikipedia_url': 'https://en.wikipedia.org/wiki/Software_company',\n",
       "  'wikidata_id': 'Q1058914',\n",
       "  'description': 'company that develops software'},\n",
       " 'privately held company': {'wikipedia_url': 'https://en.wikipedia.org/wiki/Privately_held_company',\n",
       "  'wikidata_id': 'Q1589009',\n",
       "  'description': 'business with a small number of owners'},\n",
       " 'website': {'wikipedia_url': 'https://en.wikipedia.org/wiki/Website',\n",
       "  'wikidata_id': 'Q35127',\n",
       "  'description': 'set of related web pages served from a single web domain'},\n",
       " 'organization': {'wikipedia_url': 'https://en.wikipedia.org/wiki/Organization',\n",
       "  'wikidata_id': 'Q43229',\n",
       "  'description': 'social entity established to meet needs or pursue goals'},\n",
       " 'holding company': {'wikipedia_url': 'https://en.wikipedia.org/wiki/Holding_company',\n",
       "  'wikidata_id': 'Q219577',\n",
       "  'description': 'company whose primary business is holding controlling shares of subsidiary companies'},\n",
       " 'conglomerate': {'wikipedia_url': 'https://en.wikipedia.org/wiki/Conglomerate_(company)',\n",
       "  'wikidata_id': 'Q778575',\n",
       "  'description': 'large company involved in many industries'},\n",
       " 'technology company': {'wikipedia_url': 'https://en.wikipedia.org/wiki/Technology_company',\n",
       "  'wikidata_id': 'Q18388277',\n",
       "  'description': 'company specializing in technology'}}"
      ]
     },
     "execution_count": 28,
     "metadata": {},
     "output_type": "execute_result"
    }
   ],
   "source": [
    "category_node"
   ]
  },
  {
   "cell_type": "code",
   "execution_count": 29,
   "metadata": {},
   "outputs": [],
   "source": [
    "content = \"wikidata_id\\tname\\twikipedia_url\\tdescription\\n\"\n",
    "for node in category_node:\n",
    "        wikidata_id = category_node[node]['wikidata_id']\n",
    "\n",
    "        wikipedia_url = category_node[node]['wikipedia_url']\n",
    "        description = category_node[node]['description']\n",
    "        content += f\"{wikidata_id}\\t{node.title()}\\t{wikipedia_url}\\t{description}\\n\"\n",
    "\n",
    "output_file = open(\"neo4j/node_category.tsv\", 'w')\n",
    "output_file.write(content)\n",
    "output_file.close()"
   ]
  },
  {
   "cell_type": "code",
   "execution_count": 30,
   "metadata": {},
   "outputs": [],
   "source": [
    "url = \"bolt://localhost:7687\"\n",
    "driver = GraphDatabase.driver(url, auth=(PARAM[\"neo4j_username\"], PARAM[\"neo4j_password\"]))\n"
   ]
  },
  {
   "cell_type": "code",
   "execution_count": 31,
   "metadata": {},
   "outputs": [],
   "source": [
    "src = \"neo4j\"\n",
    "\n",
    "home = str(Path.home())\n",
    "\n",
    "dst = os.path.join(home, \"Library\", \"Application Support\", \"Neo4j Desktop\", \"Application\", \"relate-data\", \"dbmss\", PARAM[\"neo4j_project_str\"], \"import\")\n",
    "\n",
    "\n",
    "for root, dirs, files in os.walk(dst):\n",
    "    for f in files:\n",
    "        os.unlink(os.path.join(root, f))\n",
    "    for d in dirs:\n",
    "        shutil.rmtree(os.path.join(root, d))\n",
    "\n",
    "for src_dir, dirs, files in os.walk(src):\n",
    "    for file_ in files:\n",
    "        src_file = os.path.join(src_dir, file_)\n",
    "        dst_file = os.path.join(dst, file_)\n",
    "        shutil.copy(src_file, dst_file)"
   ]
  },
  {
   "cell_type": "code",
   "execution_count": 32,
   "metadata": {},
   "outputs": [],
   "source": [
    "\n",
    "\n",
    "with driver.session() as session: \n",
    "    session.run(\"MATCH (n) DETACH DELETE n\")\n",
    "\n"
   ]
  },
  {
   "cell_type": "code",
   "execution_count": 33,
   "metadata": {},
   "outputs": [],
   "source": [
    "for line in open(\"neo4j_command.txt\", 'r'):\n",
    "    if line.strip() != \"\":\n",
    "        with driver.session() as session:\n",
    "            session.run(line.strip())"
   ]
  },
  {
   "cell_type": "code",
   "execution_count": 35,
   "metadata": {},
   "outputs": [
    {
     "data": {
      "text/plain": [
       "{'wikidata_id': 'Q182477'}"
      ]
     },
     "execution_count": 35,
     "metadata": {},
     "output_type": "execute_result"
    }
   ],
   "source": [
    "get_wikidata_id(\"https://en.wikipedia.org/wiki/Nvidia\")"
   ]
  },
  {
   "cell_type": "code",
   "execution_count": 38,
   "metadata": {},
   "outputs": [
    {
     "data": {
      "text/plain": [
       "entities {\n",
       "  name: \"SMBC信用保証\"\n",
       "  type_: OTHER\n",
       "  salience: 0.264144033\n",
       "  mentions {\n",
       "    text {\n",
       "      content: \"SMBC信用保証\"\n",
       "      begin_offset: -1\n",
       "    }\n",
       "    type_: COMMON\n",
       "  }\n",
       "}\n",
       "entities {\n",
       "  name: \"株式会社沖縄海邦銀行\"\n",
       "  type_: ORGANIZATION\n",
       "  metadata {\n",
       "    key: \"wikipedia_url\"\n",
       "    value: \"https://ja.wikipedia.org/wiki/沖縄海邦銀行\"\n",
       "  }\n",
       "  metadata {\n",
       "    key: \"mid\"\n",
       "    value: \"/g/1228rsjp\"\n",
       "  }\n",
       "  salience: 0.204967543\n",
       "  mentions {\n",
       "    text {\n",
       "      content: \"株式会社沖縄海邦銀行\"\n",
       "      begin_offset: -1\n",
       "    }\n",
       "    type_: PROPER\n",
       "  }\n",
       "}\n",
       "entities {\n",
       "  name: \"保証業務提携契約\"\n",
       "  type_: OTHER\n",
       "  salience: 0.200605452\n",
       "  mentions {\n",
       "    text {\n",
       "      content: \"保証業務提携契約\"\n",
       "      begin_offset: -1\n",
       "    }\n",
       "    type_: COMMON\n",
       "  }\n",
       "}\n",
       "entities {\n",
       "  name: \"代表取締役\"\n",
       "  type_: PERSON\n",
       "  salience: 0.186825573\n",
       "  mentions {\n",
       "    text {\n",
       "      content: \"代表取締役\"\n",
       "      begin_offset: -1\n",
       "    }\n",
       "    type_: COMMON\n",
       "  }\n",
       "}\n",
       "entities {\n",
       "  name: \"頭取\"\n",
       "  type_: PERSON\n",
       "  salience: 0.143457398\n",
       "  mentions {\n",
       "    text {\n",
       "      content: \"頭取\"\n",
       "      begin_offset: -1\n",
       "    }\n",
       "    type_: COMMON\n",
       "  }\n",
       "}\n",
       "entities {\n",
       "  name: \"一\"\n",
       "  type_: NUMBER\n",
       "  metadata {\n",
       "    key: \"value\"\n",
       "    value: \"1\"\n",
       "  }\n",
       "  mentions {\n",
       "    text {\n",
       "      content: \"一\"\n",
       "      begin_offset: -1\n",
       "    }\n",
       "  }\n",
       "}\n",
       "entities {\n",
       "  name: \"一\"\n",
       "  type_: NUMBER\n",
       "  metadata {\n",
       "    key: \"value\"\n",
       "    value: \"1\"\n",
       "  }\n",
       "  mentions {\n",
       "    text {\n",
       "      content: \"一\"\n",
       "      begin_offset: -1\n",
       "    }\n",
       "  }\n",
       "}\n",
       "language: \"ja\""
      ]
     },
     "execution_count": 38,
     "metadata": {},
     "output_type": "execute_result"
    }
   ],
   "source": [
    "analyze_text_entities(\"今般、第一号として、SMBC信用保証は株式会社沖縄海邦銀行（代表取締役頭取:新城一史）と保証業務提携契約を締結いたしました。\")"
   ]
  },
  {
   "cell_type": "code",
   "execution_count": null,
   "metadata": {},
   "outputs": [],
   "source": []
  }
 ],
 "metadata": {
  "kernelspec": {
   "display_name": "Python 3",
   "language": "python",
   "name": "python3"
  },
  "language_info": {
   "codemirror_mode": {
    "name": "ipython",
    "version": 3
   },
   "file_extension": ".py",
   "mimetype": "text/x-python",
   "name": "python",
   "nbconvert_exporter": "python",
   "pygments_lexer": "ipython3",
   "version": "3.10.12"
  },
  "orig_nbformat": 4
 },
 "nbformat": 4,
 "nbformat_minor": 2
}
